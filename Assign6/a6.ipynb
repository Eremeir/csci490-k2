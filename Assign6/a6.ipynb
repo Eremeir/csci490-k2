{
 "cells": [
  {
   "attachments": {},
   "cell_type": "markdown",
   "metadata": {},
   "source": [
    "# 0. Name & Z-ID\n",
    "Matt Borek\n",
    "\n",
    "z1951125\n",
    "\n",
    "so many functions with the same name make me dizzy, polymorphism is not fun"
   ]
  },
  {
   "attachments": {},
   "cell_type": "markdown",
   "metadata": {},
   "source": [
    "# 2. Course Class"
   ]
  },
  {
   "cell_type": "code",
   "execution_count": 290,
   "metadata": {},
   "outputs": [],
   "source": [
    "class Course():\n",
    "    def __init__(self, department, course_number, course_name, section, credits, times):\n",
    "        self.department = department\n",
    "        self.course_number = course_number\n",
    "        self.course_name = course_name\n",
    "        self.section = section\n",
    "        self.credits = credits\n",
    "        self.times = times\n",
    "        self.instructor = None\n",
    "        self.students = set()\n",
    "        \n",
    "    def enroll(self, student):\n",
    "        self.students.add(student)\n",
    "    \n",
    "    def drop(self, student):\n",
    "        self.students.discard(student)\n",
    "        \n",
    "    def change_time(self, updated_times):\n",
    "        self.times = updated_times\n",
    "        \n",
    "    def __str__(self):\n",
    "        readable_times = ', ' .join([f\"{day} {start}:00-{end}:00\" for day, start, end in self.times])\n",
    "        return f\"{self.department} {self.course_number}: {self.course_name}, Section {self.section} ({self.credits} credits), Times: {readable_times}\""
   ]
  },
  {
   "attachments": {},
   "cell_type": "markdown",
   "metadata": {},
   "source": [
    "# 3. Schedule Class"
   ]
  },
  {
   "cell_type": "code",
   "execution_count": 291,
   "metadata": {},
   "outputs": [],
   "source": [
    "class Schedule:\n",
    "    def __init__(self, courses=None):\n",
    "        self.courses = courses or []\n",
    "        \n",
    "    @property\n",
    "    def credits(self):\n",
    "        return sum(course.credits for course in self.courses)    \n",
    "        \n",
    "    def add_course(self, course):\n",
    "        self.courses.append(course)\n",
    "        \n",
    "    def remove_course(self, course):\n",
    "        self.courses.remove(course)\n",
    "        \n",
    "    def __add__(self, course):\n",
    "        self.add_course(course)\n",
    "        return self.courses\n",
    "        \n",
    "    def __sub__(self, course):\n",
    "        self.remove_course(course)\n",
    "        return self.courses"
   ]
  },
  {
   "attachments": {},
   "cell_type": "markdown",
   "metadata": {},
   "source": [
    "# 1. Academic Classes"
   ]
  },
  {
   "cell_type": "code",
   "execution_count": 292,
   "metadata": {},
   "outputs": [],
   "source": [
    "class Academic:\n",
    "    MAX_CREDITS = 0\n",
    "    def __init__(self, campus_id, first_name, last_name):\n",
    "        self.campus_id = campus_id\n",
    "        self.first_name = first_name\n",
    "        self.last_name = last_name\n",
    "        self.max_credits = self.MAX_CREDITS\n",
    "        self.schedule = Schedule()\n",
    "        \n",
    "    def add_course(self, course):\n",
    "        if self.max_credits < (self.schedule.credits + course.credits):\n",
    "            raise Exception(f\"Requested courseload would exceed maximum of {self.max_credits} credits\")\n",
    "        else:\n",
    "            self.schedule.add_course(course)\n",
    "    \n",
    "    def remove_course(self, course):\n",
    "        self.schedule.courses.remove(course)\n",
    "        \n",
    "    def __add__(self, course):\n",
    "        self.add_course(course)\n",
    "        return self\n",
    "            \n",
    "    def __sub__(self, course):\n",
    "        self.remove_course(course)\n",
    "        return self"
   ]
  },
  {
   "cell_type": "code",
   "execution_count": 293,
   "metadata": {},
   "outputs": [],
   "source": [
    "class Student(Academic):\n",
    "    MAX_CREDITS = 16\n",
    "    def __init__(self, campus_id, first_name, last_name, level):\n",
    "        super().__init__(campus_id, first_name, last_name)\n",
    "        self.level = level\n",
    "        \n",
    "    def add_course(self, course):\n",
    "        super().add_course(course)\n",
    "        course.enroll(self)\n",
    "    \n",
    "    def remove_course(self, course):\n",
    "        super().remove_course(course)\n",
    "        course.drop(self)"
   ]
  },
  {
   "cell_type": "code",
   "execution_count": 294,
   "metadata": {},
   "outputs": [],
   "source": [
    "class GraduateStudent(Student):\n",
    "    MAX_CREDITS = 12\n",
    "    def __init__(self, campus_id, first_name, last_name):\n",
    "        super().__init__(campus_id, first_name, last_name, \"Graduate\")"
   ]
  },
  {
   "cell_type": "code",
   "execution_count": 295,
   "metadata": {},
   "outputs": [],
   "source": [
    "class Instructor(Academic):\n",
    "    MAX_CREDITS = 9\n",
    "    def __init__(self, campus_id, first_name, last_name, rank):\n",
    "        super().__init__(campus_id, first_name, last_name)\n",
    "        self.rank = rank\n",
    "        \n",
    "    def add_course(self, course):\n",
    "        super().add_course(course)\n",
    "        course.instructor = self\n",
    "        \n",
    "    def remove_course(self, course):\n",
    "        super().remove_course(course)\n",
    "        course.instructor = None"
   ]
  },
  {
   "attachments": {},
   "cell_type": "markdown",
   "metadata": {},
   "source": [
    "# 4. Registrar Class"
   ]
  },
  {
   "cell_type": "code",
   "execution_count": 296,
   "metadata": {},
   "outputs": [],
   "source": [
    "class Registrar:\n",
    "    def __init__(self):\n",
    "        self.courses = {}\n",
    "        self.academics = {}\n",
    "        \n",
    "    def add_persons(self, persons):\n",
    "        for person in persons:\n",
    "            self.academics[person.campus_id] = person\n",
    "            \n",
    "    def add_courses(self, courses):\n",
    "        for course in courses:\n",
    "            self.courses[(course.department, course.course_number, course.section)] = course\n",
    "\n",
    "    def add_person_to_course(self, campus_id, department, course_number, section):\n",
    "        self.academics[campus_id].add_course(self.courses[(department, course_number, section)])\n",
    "\n",
    "    def remove_person_from_course(self, campus_id, department, course_number, section):\n",
    "        self.academics[campus_id].remove_course(self.courses[(department, course_number, section)])\n",
    "        \n",
    "    def print_schedule(self, campus_id):\n",
    "        print(f\"{campus_id}'s Schedule:\")\n",
    "        for course in self.academics[campus_id].schedule.courses:\n",
    "            professor = course.instructor.last_name if course.instructor else \"N/A\"\n",
    "            print(f\"{course.__str__()} with Professor {professor}\") \n",
    "            \n",
    "    def print_enrollments(self, department, course_number, section):\n",
    "        session = self.courses[(department, course_number, section)]\n",
    "        print(f\"{department} {course_number}({section}): {session.course_name} Enrollment\")\n",
    "        for student in session.students:\n",
    "            print(student.first_name, student.last_name)"
   ]
  },
  {
   "attachments": {},
   "cell_type": "markdown",
   "metadata": {},
   "source": [
    "# Testing"
   ]
  },
  {
   "cell_type": "code",
   "execution_count": 297,
   "metadata": {},
   "outputs": [
    {
     "name": "stdout",
     "output_type": "stream",
     "text": [
      "z143's Schedule:\n",
      "CSCI 1543: Programming Principles in Python, Section 1 (3 credits), Times: Mon 10:00-12:00, Wed 10:00-12:00 with Professor Martinez\n",
      "CSCI 1342: Computer Networks, Section 2 (4 credits), Times: Tue 14:00-16:00, Thu 14:00-16:00, Fri 12:00-13:00 with Professor Martinez\n",
      "SOCI 1230: Introduction to Sociology, Section 1 (3 credits), Times: Mon 11:00-13:00, Thu 11:00-13:00 with Professor Jones\n",
      "SOCI 1230(1): Introduction to Sociology Enrollment\n",
      "Divya Bharti\n",
      "Catherine Smith\n"
     ]
    }
   ],
   "source": [
    "s1 = Student(\"z143\", \"Catherine\", \"Smith\", \"Senior\")\n",
    "s2 = Student(\"z352\", \"Niraj\", \"Kumar\", \"Sophomore\")\n",
    "s3 = GraduateStudent(\"z785\", \"Divya\", \"Bharti\")\n",
    "s4 = GraduateStudent(\"z982\", \"James\", \"O'Brien\")\n",
    "\n",
    "i1 = Instructor(\"a421\", \"Jennifer\", \"Martinez\", \"Professor\")\n",
    "i2 = Instructor(\"a572\", \"Jonathan\", \"Jones\", \"Instructor\")\n",
    "\n",
    "c1 = Course(\"CSCI\", 1543, \"Programming Principles in Python\", 1, 3, [(\"Mon\", 10, 12), (\"Wed\", 10, 12)])\n",
    "c2 = Course(\"CSCI\", 1342, \"Computer Networks\", 2, 4, [(\"Tue\", 14, 16), (\"Thu\", 14, 16), (\"Fri\", 12, 13)])\n",
    "c3 = Course(\"CSCI\", 1352, \"Computer Graphics\", 1, 3, [(\"Tue\", 10, 12), (\"Thu\", 10, 12)])\n",
    "c4 = Course(\"SOCI\", 1230, \"Introduction to Sociology\", 1, 3, [(\"Mon\", 11, 13), (\"Thu\", 11, 13)])\n",
    "c5 = Course(\"POLS\", 1100, \"American Politics\", 2, 3, [(\"Tue\", 10, 12), (\"Thu\", 10, 12)])\n",
    "c6 = Course(\"SOCI\", 1450, \"Classical Sociological Theory\", 1, 3, [(\"Mon\", 12, 13), (\"Wed\", 12, 13), (\"Fri\", 12, 13)])\n",
    "\n",
    "r = Registrar()\n",
    "r.add_persons([s1,s2,s3,s4,i1,i2])\n",
    "r.add_courses([c1,c2,c3,c4,c5, c6])\n",
    "r.add_person_to_course(\"a572\", \"SOCI\", 1230, 1)\n",
    "r.add_person_to_course(\"a572\", \"POLS\", 1100, 2) \n",
    "r.add_person_to_course(\"a572\", \"SOCI\", 1450, 1)\n",
    "r.add_person_to_course(\"a421\", \"CSCI\", 1543, 1)\n",
    "r.add_person_to_course(\"a421\", \"CSCI\", 1342, 2)\n",
    "#r.add_person_to_course(\"a421\", \"CSCI\", 1352, 1) # error due to max credits\n",
    "r.add_person_to_course(\"z785\", \"SOCI\", 1230, 1)\n",
    "r.add_person_to_course(\"z785\", \"CSCI\", 1352, 1)\n",
    "r.add_person_to_course(\"z143\", \"CSCI\", 1543, 1)\n",
    "r.add_person_to_course(\"z143\", \"CSCI\", 1342, 2)\n",
    "r.add_person_to_course(\"z143\", \"SOCI\", 1230, 1) \n",
    "\n",
    "r.print_schedule(\"z143\") #Extra Credit\n",
    "r.print_enrollments(\"SOCI\", 1230, 1) #Extra Credit"
   ]
  }
 ],
 "metadata": {
  "kernelspec": {
   "display_name": "Python 3",
   "language": "python",
   "name": "python3"
  },
  "language_info": {
   "codemirror_mode": {
    "name": "ipython",
    "version": 3
   },
   "file_extension": ".py",
   "mimetype": "text/x-python",
   "name": "python",
   "nbconvert_exporter": "python",
   "pygments_lexer": "ipython3",
   "version": "3.11.0"
  },
  "orig_nbformat": 4,
  "vscode": {
   "interpreter": {
    "hash": "c261aea317cc0286b3b3261fbba9abdec21eaa57589985bb7a274bf54d6cc0a7"
   }
  }
 },
 "nbformat": 4,
 "nbformat_minor": 2
}
