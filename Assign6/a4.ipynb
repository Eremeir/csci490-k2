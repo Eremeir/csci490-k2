{
 "cells": [
  {
   "attachments": {},
   "cell_type": "markdown",
   "metadata": {},
   "source": [
    "# 0. Name & Z-ID\n",
    "Matt Borek\n",
    "\n",
    "z1951125"
   ]
  },
  {
   "attachments": {},
   "cell_type": "markdown",
   "metadata": {},
   "source": [
    "# 1. Academic Classes"
   ]
  },
  {
   "cell_type": "code",
   "execution_count": 67,
   "metadata": {},
   "outputs": [],
   "source": [
    "class Academic:\n",
    "    MAX_CREDITS = 0\n",
    "    def __init__(self, first_name, last_name, campus_id):\n",
    "        self.first_name = first_name\n",
    "        self.last_name = last_name\n",
    "        self.campus_id = campus_id\n",
    "        self.max_credits = self.MAX_CREDITS"
   ]
  },
  {
   "cell_type": "code",
   "execution_count": 68,
   "metadata": {},
   "outputs": [],
   "source": [
    "class Student(Academic):\n",
    "    MAX_CREDITS = 16\n",
    "    def __init__(self, first_name, last_name, campus_id, level):\n",
    "        super().__init__(first_name, last_name, campus_id)\n",
    "        self.level = level"
   ]
  },
  {
   "cell_type": "code",
   "execution_count": 69,
   "metadata": {},
   "outputs": [],
   "source": [
    "class GraduateStudent(Student):\n",
    "    MAX_CREDITS = 12\n",
    "    def __init__(self, first_name, last_name, campus_id):\n",
    "        super().__init__(first_name, last_name, campus_id, \"Graduate\")"
   ]
  },
  {
   "cell_type": "code",
   "execution_count": 70,
   "metadata": {},
   "outputs": [],
   "source": [
    "class Instructor(Academic):\n",
    "    MAX_CREDITS = 9\n",
    "    def __init__(self, first_name, last_name, campus_id, rank):\n",
    "        super().__init__(first_name, last_name, campus_id)\n",
    "        self.rank = rank"
   ]
  },
  {
   "attachments": {},
   "cell_type": "markdown",
   "metadata": {},
   "source": [
    "# 2. Course Class"
   ]
  },
  {
   "cell_type": "code",
   "execution_count": 71,
   "metadata": {},
   "outputs": [],
   "source": [
    "class Course():\n",
    "    def __init__(self, department, course_number, course_name, section, credits, times):\n",
    "        self.department = department\n",
    "        self.course_number = course_number\n",
    "        self.course_name = course_name\n",
    "        self.section = section\n",
    "        self.credits = credits\n",
    "        self.times = times\n",
    "        self.instructor = None\n",
    "        self.students = set()\n",
    "        \n",
    "    def enroll(self, student):\n",
    "        self.students.add(student)\n",
    "    \n",
    "    def drop(self, student):\n",
    "        self.students.discard(student)\n",
    "        \n",
    "    def change_time(self, updated_times):\n",
    "        self.times = updated_times\n",
    "        \n",
    "    def __str__(self):\n",
    "        readable_times = ', ' .join([f\"{day} {start}:00-{end}:00\" for day, start, end in self.times])\n",
    "        return f\"{self.department} {self.course_number}: {self.course_name}, Section {self.section} ({self.credits} credits), Times: {readable_times}\"\n"
   ]
  },
  {
   "attachments": {},
   "cell_type": "markdown",
   "metadata": {},
   "source": [
    "# Testing"
   ]
  },
  {
   "cell_type": "code",
   "execution_count": 72,
   "metadata": {},
   "outputs": [
    {
     "data": {
      "text/plain": [
       "'SOCI 1450: Classical Sociological Theory, Section 1 (3 credits), Times: Mon 12:00-13:00, Wed 12:00-13:00, Fri 12:00-13:00'"
      ]
     },
     "execution_count": 72,
     "metadata": {},
     "output_type": "execute_result"
    }
   ],
   "source": [
    "s1 = Student(\"z143\", \"Catherine\", \"Smith\", \"Senior\")\n",
    "s2 = Student(\"z352\", \"Niraj\", \"Kumar\", \"Sophomore\")\n",
    "s3 = GraduateStudent(\"z785\", \"Divya\", \"Bharti\")\n",
    "s4 = GraduateStudent(\"z982\", \"James\", \"O'Brien\")\n",
    "\n",
    "i1 = Instructor(\"a421\", \"Jennifer\", \"Martinez\", \"Professor\")\n",
    "i2 = Instructor(\"a572\", \"Jonathan\", \"Jones\", \"Instructor\")\n",
    "\n",
    "c1 = Course(\"CSCI\", 1543, \"Programming Principles in Python\", 1, 3, [(\"Mon\", 10, 12), (\"Wed\", 10, 12)])\n",
    "c2 = Course(\"CSCI\", 1342, \"Computer Networks\", 2, 4, [(\"Tue\", 14, 16), (\"Thu\", 14, 16), (\"Fri\", 12, 13)])\n",
    "c3 = Course(\"CSCI\", 1352, \"Computer Graphics\", 1, 3, [(\"Tue\", 10, 12), (\"Thu\", 10, 12)])\n",
    "c4 = Course(\"SOCI\", 1230, \"Introduction to Sociology\", 1, 3, [(\"Mon\", 11, 13), (\"Thu\", 11, 13)])\n",
    "c5 = Course(\"POLS\", 1100, \"American Politics\", 2, 3, [(\"Tue\", 10, 12), (\"Thu\", 10, 12)])\n",
    "c6 = Course(\"SOCI\", 1450, \"Classical Sociological Theory\", 1, 3, [(\"Mon\", 12, 13), (\"Wed\", 12, 13), (\"Fri\", 12, 13)])\n",
    "c6.__str__()"
   ]
  }
 ],
 "metadata": {
  "kernelspec": {
   "display_name": "Python 3",
   "language": "python",
   "name": "python3"
  },
  "language_info": {
   "codemirror_mode": {
    "name": "ipython",
    "version": 3
   },
   "file_extension": ".py",
   "mimetype": "text/x-python",
   "name": "python",
   "nbconvert_exporter": "python",
   "pygments_lexer": "ipython3",
   "version": "3.11.0"
  },
  "orig_nbformat": 4,
  "vscode": {
   "interpreter": {
    "hash": "c261aea317cc0286b3b3261fbba9abdec21eaa57589985bb7a274bf54d6cc0a7"
   }
  }
 },
 "nbformat": 4,
 "nbformat_minor": 2
}
