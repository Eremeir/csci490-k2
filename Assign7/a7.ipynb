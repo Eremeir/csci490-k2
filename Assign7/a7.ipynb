{
 "cells": [
  {
   "attachments": {},
   "cell_type": "markdown",
   "metadata": {},
   "source": [
    "# 0. Name & Z-ID\n",
    "Matt Borek\n",
    "\n",
    "z1951125\n",
    "\"Each of the csv files should have 33 lines (one for each of the 32 artists plus one line for the column names).\"\n",
    "I keep checking, but there are only 31 unique artist names. The CSVs are each 33 lines long, 1 for the columns and 31 for artists, with one following empty line making it 33. Did the instructions misscount?"
   ]
  },
  {
   "attachments": {},
   "cell_type": "markdown",
   "metadata": {},
   "source": [
    "# 1. Download & Extract Files"
   ]
  },
  {
   "cell_type": "code",
   "execution_count": 314,
   "metadata": {},
   "outputs": [
    {
     "name": "stdout",
     "output_type": "stream",
     "text": [
      "Downloading \"75_million_to_79_million.zip\"...\n",
      "Success!\n",
      "Extracting 75_million_to_79_million to artist-data/...\n",
      "Success!\n",
      "Downloading \"80_million_to_99_million.zip\"...\n",
      "Success!\n",
      "Extracting 80_million_to_99_million to artist-data/...\n",
      "Success!\n",
      "Downloading \"100_million_to_119_million.zip\"...\n",
      "Success!\n",
      "Extracting 100_million_to_119_million to artist-data/...\n",
      "Success!\n",
      "Downloading \"120_million_to_199_million.zip\"...\n",
      "Success!\n",
      "Extracting 120_million_to_199_million to artist-data/...\n",
      "Success!\n",
      "Downloading \"200_million_to_249_million.zip\"...\n",
      "Success!\n",
      "Extracting 200_million_to_249_million to artist-data/...\n",
      "Success!\n",
      "Downloading \"250_million_to_999_million.zip\"...\n",
      "Success!\n",
      "Extracting 250_million_to_999_million to artist-data/...\n",
      "Success!\n"
     ]
    }
   ],
   "source": [
    "import requests\n",
    "from pathlib import Path\n",
    "import shutil\n",
    "\n",
    "course_URL = \"https://faculty.cs.niu.edu/~dakoop/cs503-2023sp/a7/\"\n",
    "data_tuples = [(75,79), (80,99), (100,119), (120,199), (200,249), (250,999)]\n",
    "directory = \"artist-data/\"\n",
    "Path(directory).mkdir(exist_ok=True)\n",
    "\n",
    "for duo in data_tuples:\n",
    "    fname = f\"{duo[0]}_million_to_{duo[1]}_million.zip\"\n",
    "    fpath = Path(directory, fname)\n",
    "\n",
    "    if not fpath.exists():\n",
    "        print(f\"Downloading \\\"{fname}\\\"...\")\n",
    "        connection = requests.get(course_URL + fname)\n",
    "        with open(fpath, \"wb\") as new_file:\n",
    "            new_file.write(connection.content)\n",
    "        print(\"Success!\")\n",
    "    else:\n",
    "        print(f\"{fname} already exists.\")\n",
    "    \n",
    "    data_directory = fname[:-4]\n",
    "    data_path = Path(directory, data_directory)\n",
    "    \n",
    "    if not data_path.exists():\n",
    "        print(f\"Extracting {data_directory} to {directory}...\")\n",
    "        shutil.unpack_archive(str(fpath), directory)\n",
    "        print(\"Success!\")\n",
    "    else:\n",
    "        print(f\"{data_directory} already exists.\")"
   ]
  },
  {
   "attachments": {},
   "cell_type": "markdown",
   "metadata": {},
   "source": [
    "# 2. Find Matching Files"
   ]
  },
  {
   "cell_type": "code",
   "execution_count": 315,
   "metadata": {},
   "outputs": [],
   "source": [
    "npy_files = list(Path(directory).rglob('*.npy'))"
   ]
  },
  {
   "attachments": {},
   "cell_type": "markdown",
   "metadata": {},
   "source": [
    "# 3. Use Threads to Process Files"
   ]
  },
  {
   "cell_type": "code",
   "execution_count": 316,
   "metadata": {},
   "outputs": [],
   "source": [
    "import concurrent.futures as cf\n",
    "import numpy as np\n",
    "import pandas as pd\n",
    "\n",
    "def build_dataframe(fpath):\n",
    "    series_array = np.load(fpath)\n",
    "    dates = series_array[0]\n",
    "    views = series_array[1]\n",
    "    artist = fpath.stem.replace('-', ' ').title()\n",
    "    \n",
    "    df = pd.DataFrame({\"Date\": dates, \"Views\": views})\n",
    "    df[\"Artist\"] = artist\n",
    "    return df\n",
    "    \n",
    "with cf.ThreadPoolExecutor() as exec:\n",
    "    result = exec.map(build_dataframe, npy_files)\n",
    "df = pd.concat(result)\n",
    "\n",
    "for month in range(1, 13):\n",
    "    double_digit = str(month).zfill(2)\n",
    "    df[\"Date\"] = df[\"Date\"].astype(str)\n",
    "    month_df = df[df[\"Date\"].str.slice(4, 6) == double_digit]\n",
    "    year = month_df[\"Date\"].iloc[0][:4]\n",
    "    month_file = f\"{year}{double_digit}.csv.gz\"\n",
    "    \n",
    "    with open(month_file, 'wb') as newer_file:\n",
    "        month_df.to_csv(newer_file, compression='gzip', index=False) "
   ]
  }
 ],
 "metadata": {
  "kernelspec": {
   "display_name": "Python 3",
   "language": "python",
   "name": "python3"
  },
  "language_info": {
   "codemirror_mode": {
    "name": "ipython",
    "version": 3
   },
   "file_extension": ".py",
   "mimetype": "text/x-python",
   "name": "python",
   "nbconvert_exporter": "python",
   "pygments_lexer": "ipython3",
   "version": "3.10.9"
  },
  "orig_nbformat": 4
 },
 "nbformat": 4,
 "nbformat_minor": 2
}
