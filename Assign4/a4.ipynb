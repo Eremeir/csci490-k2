{
 "cells": [
  {
   "attachments": {},
   "cell_type": "markdown",
   "metadata": {},
   "source": [
    "# 0. Name & Z-ID\n",
    "Matt Borek\n",
    "\n",
    "z1951125"
   ]
  },
  {
   "attachments": {},
   "cell_type": "markdown",
   "metadata": {},
   "source": [
    "# Project Gutenberg Dataset"
   ]
  },
  {
   "cell_type": "code",
   "execution_count": 401,
   "metadata": {},
   "outputs": [],
   "source": [
    "import os\n",
    "from urllib.request import urlretrieve\n",
    "\n",
    "def download_text(url):\n",
    "    local_fname = os.path.basename(url)\n",
    "    if not os.path.exists(local_fname):\n",
    "        urlretrieve(url, local_fname)\n",
    "    return local_fname"
   ]
  },
  {
   "cell_type": "code",
   "execution_count": 402,
   "metadata": {},
   "outputs": [],
   "source": [
    "fname = download_text('https://www.gutenberg.org/files/17610/17610-8.txt') #(encoding: iso-8859-1)\n",
    "fname2 = download_text('https://www.gutenberg.org/files/63438/63438-0.txt') #(encoding: utf-8-sig)\n",
    "fname3 = download_text('https://www.gutenberg.org/files/63439/63439-0.txt') #(encoding: utf-8-sig)"
   ]
  },
  {
   "attachments": {},
   "cell_type": "markdown",
   "metadata": {},
   "source": [
    "# 1. Read Data"
   ]
  },
  {
   "cell_type": "code",
   "execution_count": 403,
   "metadata": {},
   "outputs": [],
   "source": [
    "import re\n",
    "\n",
    "def read_data(filename, encoding):\n",
    "    with open(filename, 'r', encoding=encoding) as text:\n",
    "        section_found = False\n",
    "        text_lines = []\n",
    "        for line in text:\n",
    "            if re.match(r'\\*{3} START OF THIS PROJECT GUTENBERG EBOOK .*? \\*{3}', line):\n",
    "                section_found = True\n",
    "                continue\n",
    "            \n",
    "            if re.match(r'\\*{3} END OF THIS PROJECT GUTENBERG EBOOK .*? \\*{3}', line):\n",
    "                section_found = False\n",
    "                break\n",
    "            \n",
    "            if section_found:\n",
    "                text_lines.append(line.strip())\n",
    "    return text_lines"
   ]
  },
  {
   "cell_type": "code",
   "execution_count": 404,
   "metadata": {},
   "outputs": [],
   "source": [
    "#for line in read_data(fname,'iso-8859-1'): #book1\n",
    "#    print(line)\n",
    "    \n",
    "#for line in read_data(fname2,'utf-8-sig'): #book2\n",
    "#    print(line)\n",
    "    \n",
    "#for line in read_data(fname2,'utf-8-sig'): #book3\n",
    "#    print(line)\n",
    "\n",
    "fname = read_data(fname,'iso-8859-1')\n",
    "fname2 = read_data(fname2,'utf-8-sig')\n",
    "fname3 = read_data(fname3,'utf-8-sig')"
   ]
  },
  {
   "attachments": {},
   "cell_type": "markdown",
   "metadata": {},
   "source": [
    "# 2. Find Non-ASCII Characters"
   ]
  },
  {
   "cell_type": "code",
   "execution_count": 405,
   "metadata": {},
   "outputs": [],
   "source": [
    "def find_non_ASCII(text_lines):\n",
    "    non_ASCII = set()\n",
    "    for line in text_lines:\n",
    "        for char in line:\n",
    "            if ord(char) > 128:\n",
    "                non_ASCII.add(char)\n",
    "    return non_ASCII"
   ]
  },
  {
   "cell_type": "code",
   "execution_count": 406,
   "metadata": {},
   "outputs": [
    {
     "name": "stdout",
     "output_type": "stream",
     "text": [
      "22\n",
      "46\n",
      "25\n"
     ]
    }
   ],
   "source": [
    "print(len(find_non_ASCII(fname)))\n",
    "print(len(find_non_ASCII(fname2)))\n",
    "print(len(find_non_ASCII(fname3)))"
   ]
  },
  {
   "attachments": {},
   "cell_type": "markdown",
   "metadata": {},
   "source": [
    "# 3. Convert Quotes"
   ]
  },
  {
   "cell_type": "code",
   "execution_count": 407,
   "metadata": {},
   "outputs": [],
   "source": [
    "def convert_quotes(text_lines):\n",
    "    conversions = {'‘':'\\'',\n",
    "                   '’':'\\'',\n",
    "                   '“':'\"',\n",
    "                   '”':'\"',\n",
    "                   '«':'\"',\n",
    "                   '»':'\"',\n",
    "                }\n",
    "    return [''.join([(char if char not in conversions else conversions[char]) for char in line]) for line in text_lines]"
   ]
  },
  {
   "cell_type": "code",
   "execution_count": 408,
   "metadata": {},
   "outputs": [],
   "source": [
    "fname = convert_quotes(fname)\n",
    "fname2 = convert_quotes(fname2)\n",
    "fname3 = convert_quotes(fname3)"
   ]
  }
 ],
 "metadata": {
  "kernelspec": {
   "display_name": "Python 3",
   "language": "python",
   "name": "python3"
  },
  "language_info": {
   "codemirror_mode": {
    "name": "ipython",
    "version": 3
   },
   "file_extension": ".py",
   "mimetype": "text/x-python",
   "name": "python",
   "nbconvert_exporter": "python",
   "pygments_lexer": "ipython3",
   "version": "3.11.0"
  },
  "orig_nbformat": 4,
  "vscode": {
   "interpreter": {
    "hash": "c261aea317cc0286b3b3261fbba9abdec21eaa57589985bb7a274bf54d6cc0a7"
   }
  }
 },
 "nbformat": 4,
 "nbformat_minor": 2
}
