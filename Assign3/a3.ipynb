{
 "cells": [
  {
   "attachments": {},
   "cell_type": "markdown",
   "metadata": {},
   "source": [
    "# 0. Name & Z-ID\n",
    "Matt Borek\n",
    "\n",
    "z1951125"
   ]
  },
  {
   "attachments": {},
   "cell_type": "markdown",
   "metadata": {},
   "source": [
    "# Pokemon Dataset"
   ]
  },
  {
   "cell_type": "code",
   "execution_count": 121,
   "metadata": {},
   "outputs": [],
   "source": [
    "# Do not modify this cell, just run it to download and load the dataset\n",
    "\n",
    "import os\n",
    "import json\n",
    "from urllib.request import urlretrieve\n",
    "\n",
    "# download the data if we don't have it locally\n",
    "url = \"https://faculty.cs.niu.edu/~dakoop/cs503-2023sp/a3/pokemon.json\"\n",
    "local_fname = \"pokemon.json\"\n",
    "if not os.path.exists(local_fname):\n",
    "    urlretrieve(url, local_fname)\n",
    "\n",
    "data = json.load(open(local_fname));"
   ]
  },
  {
   "cell_type": "code",
   "execution_count": 122,
   "metadata": {},
   "outputs": [
    {
     "data": {
      "text/plain": [
       "{'name': 'Bulbasaur',\n",
       " 'generation': 1,\n",
       " 'species': 'Seed Pokémon',\n",
       " 'primary_type': 'Grass',\n",
       " 'hp': 45.0,\n",
       " 'height_m': 0.7,\n",
       " 'weight_kg': 6.9,\n",
       " 'speed': 45.0,\n",
       " 'attack': 49.0,\n",
       " 'defense': 49.0}"
      ]
     },
     "execution_count": 122,
     "metadata": {},
     "output_type": "execute_result"
    }
   ],
   "source": [
    "# Example code\n",
    "\n",
    "# the first dictionary in the data list\n",
    "data[0]"
   ]
  },
  {
   "attachments": {},
   "cell_type": "markdown",
   "metadata": {},
   "source": [
    "# 1. Maxmum Hit Points"
   ]
  },
  {
   "cell_type": "code",
   "execution_count": 123,
   "metadata": {},
   "outputs": [
    {
     "name": "stdout",
     "output_type": "stream",
     "text": [
      "['Blissey', 'Eternatus Eternamax']\n"
     ]
    }
   ],
   "source": [
    "# Two pokemon are tied for max HP.\n",
    "healthiest_mons = []\n",
    "max_hp = 0\n",
    "for mon in data:\n",
    "    if mon['hp'] > max_hp:\n",
    "        healthiest_mons = [mon['name']]\n",
    "        max_hp = mon['hp'] \n",
    "    elif mon['hp'] == max_hp:\n",
    "       healthiest_mons.append(mon['name'])\n",
    "         \n",
    "print(healthiest_mons)\n"
   ]
  },
  {
   "attachments": {},
   "cell_type": "markdown",
   "metadata": {},
   "source": [
    "# 2. Generation Counts"
   ]
  },
  {
   "cell_type": "code",
   "execution_count": 124,
   "metadata": {},
   "outputs": [],
   "source": [
    "generation_counts = {}\n",
    "for mon in data:\n",
    "    if (gen := mon['generation']) in generation_counts:\n",
    "        generation_counts[gen] += 1\n",
    "    else:\n",
    "        generation_counts[gen] = 1\n",
    "        \n",
    "#print(generation_counts)\n",
    "#instructions do not say to print."
   ]
  },
  {
   "attachments": {},
   "cell_type": "markdown",
   "metadata": {},
   "source": [
    "# 3. Mean Weights by Primary Type"
   ]
  },
  {
   "cell_type": "code",
   "execution_count": 125,
   "metadata": {},
   "outputs": [],
   "source": [
    "primary_weights = {}\n",
    "type_weights = {}\n",
    "\n",
    "for mon in data:\n",
    "    type = mon['primary_type']\n",
    "    weight = mon['weight_kg']\n",
    "    if weight != None:\n",
    "        if type in type_weights:\n",
    "            type_weights[type].append(weight)\n",
    "        else:\n",
    "            type_weights[type] = [weight]\n",
    "\n",
    "for type in type_weights:\n",
    "    type_mean = sum(type_weights[type])/len(type_weights[type])\n",
    "    primary_weights[type] = type_mean\n",
    "\n",
    "#print(primary_weights)\n",
    "#instructions do not say to print."
   ]
  },
  {
   "attachments": {},
   "cell_type": "markdown",
   "metadata": {},
   "source": [
    "# 4. Filter by Hit Points"
   ]
  },
  {
   "cell_type": "code",
   "execution_count": 126,
   "metadata": {},
   "outputs": [],
   "source": [
    "def filter_hp(data, min_hp = 1, max_hp = 255):\n",
    "    filtered_list = []\n",
    "    for mon in data:\n",
    "        if min_hp <= mon['hp'] <= max_hp:\n",
    "            filtered_list.append((mon['hp'], mon['name']))\n",
    "    return sorted(filtered_list)\n",
    "\n",
    "#filter_hp(data, 20, 25)\n",
    "#instructions do not say to print."
   ]
  },
  {
   "attachments": {},
   "cell_type": "markdown",
   "metadata": {},
   "source": [
    "# 5. Median Attack & Defense by Generation"
   ]
  },
  {
   "cell_type": "code",
   "execution_count": 127,
   "metadata": {},
   "outputs": [],
   "source": [
    "gen_atk_def = []\n",
    "for gen_num in range(1,9):\n",
    "    stat_dict = {'generation': gen_num}\n",
    "    attacks = sorted([mon['attack'] for mon in data if mon['generation'] == gen_num])\n",
    "    defenses = sorted([mon['defense'] for mon in data if mon['generation'] == gen_num])\n",
    "    \n",
    "    for stat in (attacks, defenses):\n",
    "        if (stat_len := len(stat)) % 2 == 0:\n",
    "            median = ((stat[(stat_len // 2) - 1] + stat[stat_len // 2])) / 2\n",
    "        else:\n",
    "            median = stat[stat_len // 2]\n",
    "        \n",
    "        if stat == attacks:\n",
    "            stat_dict['attack'] = median\n",
    "        else:\n",
    "            stat_dict['defense'] = median\n",
    "            \n",
    "    gen_atk_def.append(stat_dict)\n",
    "\n",
    "#print(gen_atk_def)\n",
    "#instructions do not say to print."
   ]
  }
 ],
 "metadata": {
  "kernelspec": {
   "display_name": "Python 3",
   "language": "python",
   "name": "python3"
  },
  "language_info": {
   "codemirror_mode": {
    "name": "ipython",
    "version": 3
   },
   "file_extension": ".py",
   "mimetype": "text/x-python",
   "name": "python",
   "nbconvert_exporter": "python",
   "pygments_lexer": "ipython3",
   "version": "3.11.0"
  },
  "vscode": {
   "interpreter": {
    "hash": "c261aea317cc0286b3b3261fbba9abdec21eaa57589985bb7a274bf54d6cc0a7"
   }
  }
 },
 "nbformat": 4,
 "nbformat_minor": 4
}
