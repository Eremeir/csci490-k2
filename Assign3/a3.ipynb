{
 "cells": [
  {
   "attachments": {},
   "cell_type": "markdown",
   "metadata": {},
   "source": [
    "# 0. Name & Z-ID\n",
    "Matt Borek\n",
    "\n",
    "z1951125"
   ]
  },
  {
   "attachments": {},
   "cell_type": "markdown",
   "metadata": {},
   "source": [
    "# Pokemon Dataset"
   ]
  },
  {
   "cell_type": "code",
   "execution_count": 73,
   "metadata": {},
   "outputs": [],
   "source": [
    "# Do not modify this cell, just run it to download and load the dataset\n",
    "\n",
    "import os\n",
    "import json\n",
    "from urllib.request import urlretrieve\n",
    "\n",
    "# download the data if we don't have it locally\n",
    "url = \"https://faculty.cs.niu.edu/~dakoop/cs503-2023sp/a3/pokemon.json\"\n",
    "local_fname = \"pokemon.json\"\n",
    "if not os.path.exists(local_fname):\n",
    "    urlretrieve(url, local_fname)\n",
    "\n",
    "data = json.load(open(local_fname));"
   ]
  },
  {
   "cell_type": "code",
   "execution_count": 74,
   "metadata": {},
   "outputs": [
    {
     "data": {
      "text/plain": [
       "{'name': 'Bulbasaur',\n",
       " 'generation': 1,\n",
       " 'species': 'Seed Pokémon',\n",
       " 'primary_type': 'Grass',\n",
       " 'hp': 45.0,\n",
       " 'height_m': 0.7,\n",
       " 'weight_kg': 6.9,\n",
       " 'speed': 45.0,\n",
       " 'attack': 49.0,\n",
       " 'defense': 49.0}"
      ]
     },
     "execution_count": 74,
     "metadata": {},
     "output_type": "execute_result"
    }
   ],
   "source": [
    "# Example code\n",
    "\n",
    "# the first dictionary in the data list\n",
    "data[0]"
   ]
  },
  {
   "attachments": {},
   "cell_type": "markdown",
   "metadata": {},
   "source": [
    "# 1. Maxmum Hit Points"
   ]
  },
  {
   "cell_type": "code",
   "execution_count": 75,
   "metadata": {},
   "outputs": [
    {
     "name": "stdout",
     "output_type": "stream",
     "text": [
      "['Blissey', 'Eternatus Eternamax']\n"
     ]
    }
   ],
   "source": [
    "# Two pokemon are tied for max HP.\n",
    "healthiest_mons = []\n",
    "max_hp = 0\n",
    "for mon in data:\n",
    "    if mon['hp'] > max_hp:\n",
    "        healthiest_mons = [mon['name']]\n",
    "        max_hp = mon['hp'] \n",
    "    elif mon['hp'] == max_hp:\n",
    "       healthiest_mons.append(mon['name'])\n",
    "         \n",
    "print(healthiest_mons)\n"
   ]
  },
  {
   "attachments": {},
   "cell_type": "markdown",
   "metadata": {},
   "source": [
    "# 2. Generation Counts"
   ]
  },
  {
   "cell_type": "code",
   "execution_count": 76,
   "metadata": {},
   "outputs": [],
   "source": [
    "generation_counts = {}\n",
    "for mon in data:\n",
    "    gen = mon['generation']\n",
    "    if gen in generation_counts:\n",
    "        generation_counts[gen] += 1\n",
    "    else:\n",
    "        generation_counts[gen] = 1\n",
    "#print(generation_counts)\n",
    "#instructions do not say to print."
   ]
  },
  {
   "attachments": {},
   "cell_type": "markdown",
   "metadata": {},
   "source": [
    "# 3. Mean Weights by Primary Type"
   ]
  },
  {
   "cell_type": "code",
   "execution_count": 78,
   "metadata": {},
   "outputs": [],
   "source": [
    "primary_weights = {}\n",
    "type_weights = {}\n",
    "\n",
    "for mon in data:\n",
    "    type = mon['primary_type']\n",
    "    weight = mon['weight_kg']\n",
    "    if weight != None:\n",
    "        if type in type_weights:\n",
    "            type_weights[type].append(weight)\n",
    "        else:\n",
    "            type_weights[type] = [weight]\n",
    "    #endloop\n",
    "for type in type_weights:\n",
    "    type_mean = sum(type_weights[type])/len(type_weights[type])\n",
    "    primary_weights[type] = type_mean"
   ]
  }
 ],
 "metadata": {
  "kernelspec": {
   "display_name": "Python 3",
   "language": "python",
   "name": "python3"
  },
  "language_info": {
   "codemirror_mode": {
    "name": "ipython",
    "version": 3
   },
   "file_extension": ".py",
   "mimetype": "text/x-python",
   "name": "python",
   "nbconvert_exporter": "python",
   "pygments_lexer": "ipython3",
   "version": "3.11.0"
  },
  "vscode": {
   "interpreter": {
    "hash": "c261aea317cc0286b3b3261fbba9abdec21eaa57589985bb7a274bf54d6cc0a7"
   }
  }
 },
 "nbformat": 4,
 "nbformat_minor": 4
}
