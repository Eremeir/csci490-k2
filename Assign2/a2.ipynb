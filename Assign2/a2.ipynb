{
 "cells": [
  {
   "attachments": {},
   "cell_type": "markdown",
   "metadata": {},
   "source": [
    "# 0. Name & Z-ID\n",
    "Matt Borek\n",
    "\n",
    "z1951125"
   ]
  },
  {
   "attachments": {},
   "cell_type": "markdown",
   "metadata": {},
   "source": [
    "# 1. The 7n +/- 1 Function\n"
   ]
  },
  {
   "cell_type": "code",
   "execution_count": 104,
   "metadata": {},
   "outputs": [
    {
     "name": "stdout",
     "output_type": "stream",
     "text": [
      "1\n",
      "2, 1\n",
      "3, 20, 10, 5, 36, 18, 9, 64, 32, 16, 8, 4, 2, 1\n",
      "4, 2, 1\n",
      "5, 36, 18, 9, 64, 32, 16, 8, 4, 2, 1\n",
      "6, 3, 20, 10, 5, 36, 18, 9, 64, 32, 16, 8, 4, 2, 1\n",
      "7, 48, 24, 12, 6, 3, 20, 10, 5, 36, 18, 9, 64, 32, 16, 8, 4, 2, 1\n",
      "8, 4, 2, 1\n",
      "9, 64, 32, 16, 8, 4, 2, 1\n",
      "10, 5, 36, 18, 9, 64, 32, 16, 8, 4, 2, 1\n",
      "11, 76, 38, 19, 132, 66, 33, 232, 116, 58, 29, 204, 102, 51, 356, 178, 89, 624, 312, 156, 78, 39, 272, 136, 68, 34, 17, 120, 60, 30, 15, 104, 52, 26, 13, 92, 46, 23, 160, 80, 40, 20, 10, 5, 36, 18, 9, 64, 32, 16, 8, 4, 2, 1\n",
      "12, 6, 3, 20, 10, 5, 36, 18, 9, 64, 32, 16, 8, 4, 2, 1\n",
      "13, 92, 46, 23, 160, 80, 40, 20, 10, 5, 36, 18, 9, 64, 32, 16, 8, 4, 2, 1\n",
      "14, 7, 48, 24, 12, 6, 3, 20, 10, 5, 36, 18, 9, 64, 32, 16, 8, 4, 2, 1\n",
      "15, 104, 52, 26, 13, 92, 46, 23, 160, 80, 40, 20, 10, 5, 36, 18, 9, 64, 32, 16, 8, 4, 2, 1\n",
      "16, 8, 4, 2, 1\n",
      "17, 120, 60, 30, 15, 104, 52, 26, 13, 92, 46, 23, 160, 80, 40, 20, 10, 5, 36, 18, 9, 64, 32, 16, 8, 4, 2, 1\n",
      "18, 9, 64, 32, 16, 8, 4, 2, 1\n",
      "19, 132, 66, 33, 232, 116, 58, 29, 204, 102, 51, 356, 178, 89, 624, 312, 156, 78, 39, 272, 136, 68, 34, 17, 120, 60, 30, 15, 104, 52, 26, 13, 92, 46, 23, 160, 80, 40, 20, 10, 5, 36, 18, 9, 64, 32, 16, 8, 4, 2, 1\n",
      "20, 10, 5, 36, 18, 9, 64, 32, 16, 8, 4, 2, 1\n"
     ]
    }
   ],
   "source": [
    "def orbit(n):\n",
    "    while n != 1 and n != 0:\n",
    "        print(n, end=\", \")\n",
    "        if n % 2 == 0:\n",
    "            n = n // 2\n",
    "        elif n % 4 == 1:\n",
    "            n = 7 * n + 1\n",
    "        elif n % 4 == 3:\n",
    "            n = 7 * n - 1\n",
    "    #endloop\n",
    "    print(n)\n",
    "\n",
    "for i in range(1,21):\n",
    "    orbit(i)\n"
   ]
  },
  {
   "attachments": {},
   "cell_type": "markdown",
   "metadata": {},
   "source": [
    "# 2. Steps"
   ]
  },
  {
   "cell_type": "code",
   "execution_count": 105,
   "metadata": {},
   "outputs": [
    {
     "name": "stdout",
     "output_type": "stream",
     "text": [
      "1 -> 0\n",
      "2 -> 1\n",
      "3 -> 13\n",
      "4 -> 2\n",
      "5 -> 10\n",
      "6 -> 14\n",
      "7 -> 18\n",
      "8 -> 3\n",
      "9 -> 7\n",
      "10 -> 11\n",
      "11 -> 53\n",
      "12 -> 15\n",
      "13 -> 19\n",
      "14 -> 19\n",
      "15 -> 23\n",
      "16 -> 4\n",
      "17 -> 27\n",
      "18 -> 8\n",
      "19 -> 50\n",
      "20 -> 12\n"
     ]
    }
   ],
   "source": [
    "def steps(n):\n",
    "    step_count = 0\n",
    "    while n != 1 and n != 0:\n",
    "        step_count += 1\n",
    "        if n % 2 == 0:\n",
    "            n = n // 2\n",
    "        elif n % 4 == 1:\n",
    "            n = 7 * n + 1\n",
    "        elif n % 4 == 3:\n",
    "            n = 7 * n - 1\n",
    "    #endloop\n",
    "    step_count += 1\n",
    "    return step_count - 1\n",
    "\n",
    "for i in range(1, 21):\n",
    "    print(i, \"->\", steps(i))"
   ]
  },
  {
   "attachments": {},
   "cell_type": "markdown",
   "metadata": {},
   "source": [
    "# 3. Longest Progression"
   ]
  },
  {
   "cell_type": "code",
   "execution_count": 106,
   "metadata": {},
   "outputs": [
    {
     "name": "stdout",
     "output_type": "stream",
     "text": [
      "For Input 10 number 7 has the longest progression, taking 18 steps to reach 1.\n",
      "For Input 20 number 11 has the longest progression, taking 53 steps to reach 1.\n",
      "For Input 30 number 21 has the longest progression, taking 73 steps to reach 1.\n",
      "For Input 40 number 35 has the longest progression, taking 325 steps to reach 1.\n",
      "For Input 50 number 35 has the longest progression, taking 325 steps to reach 1.\n",
      "For Input 60 number 35 has the longest progression, taking 325 steps to reach 1.\n",
      "For Input 70 number 70 has the longest progression, taking 326 steps to reach 1.\n",
      "For Input 80 number 70 has the longest progression, taking 326 steps to reach 1.\n",
      "For Input 90 number 70 has the longest progression, taking 326 steps to reach 1.\n",
      "For Input 100 number 70 has the longest progression, taking 326 steps to reach 1.\n"
     ]
    }
   ],
   "source": [
    "def get_longest_progression(k):\n",
    "    number = 0\n",
    "    highest_steps = 0\n",
    "    \n",
    "    for i in range(1, k + 1):\n",
    "        if (number_steps := steps(i)) > highest_steps:\n",
    "            highest_steps = number_steps\n",
    "            number = i\n",
    "    #endloop\n",
    "    return number, highest_steps\n",
    "\n",
    "for i in range(10, 110, 10):\n",
    "    progression = get_longest_progression(i)\n",
    "    print(\"For Input\", i, \"number\", progression[0], \"has the longest progression, taking\", progression[1], \"steps to reach 1.\")\n"
   ]
  }
 ],
 "metadata": {
  "kernelspec": {
   "display_name": "Python 3.11.0 64-bit",
   "language": "python",
   "name": "python3"
  },
  "language_info": {
   "codemirror_mode": {
    "name": "ipython",
    "version": 3
   },
   "file_extension": ".py",
   "mimetype": "text/x-python",
   "name": "python",
   "nbconvert_exporter": "python",
   "pygments_lexer": "ipython3",
   "version": "3.11.0"
  },
  "orig_nbformat": 4,
  "vscode": {
   "interpreter": {
    "hash": "c261aea317cc0286b3b3261fbba9abdec21eaa57589985bb7a274bf54d6cc0a7"
   }
  }
 },
 "nbformat": 4,
 "nbformat_minor": 2
}
